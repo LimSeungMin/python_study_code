{
 "cells": [
  {
   "cell_type": "markdown",
   "id": "13b9a87f",
   "metadata": {},
   "source": [
    "* 나도코딩의 파이썬 입문"
   ]
  },
  {
   "cell_type": "markdown",
   "id": "676db057",
   "metadata": {},
   "source": [
    "# 3장. 연산자"
   ]
  },
  {
   "cell_type": "markdown",
   "id": "4d604e4f",
   "metadata": {},
   "source": [
    "## 3장 실습 문제 : 스터디 날짜 정하기"
   ]
  },
  {
   "cell_type": "code",
   "execution_count": 1,
   "id": "a1ced38b",
   "metadata": {},
   "outputs": [],
   "source": [
    "# 코딩 스터디 모임을 만들었습니다. 월 4번 모이는데, 3번은 온라인, 1번은 오프라인 입니다.\n",
    "# 조건에 맞는 오프라인 모임 날짜를 정하는 프로그램을 작성하세요.\n",
    "\n",
    "# 조건\n",
    "# 날짜를 무작위로 뽑는다.\n",
    "# 월별 일수가 다르므로, 최소 일수인 28일 이내로 정한다(28일까지만 날짜 선정)\n",
    "# 매월 1~3일은 스터디를 준비해야 하므로 제외한다."
   ]
  },
  {
   "cell_type": "code",
   "execution_count": 2,
   "id": "3c1566df",
   "metadata": {},
   "outputs": [],
   "source": [
    "# 라이브러리 호출\n",
    "from random import random, randint"
   ]
  },
  {
   "cell_type": "code",
   "execution_count": 3,
   "id": "6f43d00f",
   "metadata": {},
   "outputs": [
    {
     "name": "stdout",
     "output_type": "stream",
     "text": [
      "오프라인 스터디 모임 날짜는 매월 18일로 선정됐습니다.\n"
     ]
    }
   ],
   "source": [
    "# 4~28일 중 무작위 숫자 추출\n",
    "date = randint(4, 28)\n",
    "print(\"오프라인 스터디 모임 날짜는 매월 \" + str(date) + \"일로 선정됐습니다.\")"
   ]
  },
  {
   "cell_type": "markdown",
   "id": "72956067",
   "metadata": {},
   "source": [
    "## 3장 셀프체크 : 온도 단위 변환 프로그램 만들기"
   ]
  },
  {
   "cell_type": "code",
   "execution_count": 4,
   "id": "22edcdc1",
   "metadata": {},
   "outputs": [],
   "source": [
    "# 연산자를 이용해 온도 단위를 변환하는 프로그램을 만들어 보세요.\n",
    "# 섭씨 온도를 저장하기 위한 변수를 만든다,\n",
    "# 화씨 온도 = (섭씨 온도 * 9 / 5) + 32 를 이용해 섭씨 온도 -> 화씨 온도 변환, 새로운 변수에 할당"
   ]
  },
  {
   "cell_type": "code",
   "execution_count": null,
   "id": "38026926",
   "metadata": {},
   "outputs": [],
   "source": [
    "# 섭씨 온도가 30도 일 때\n",
    "Celsius = int(input())\n",
    "Fahrenheit = (Celsius * 9 / 5) + 32\n",
    "\n",
    "print(\"섭씨 온도 : \", Celsius)\n",
    "print(\"화씨 온도 : \", Fahrenheit)"
   ]
  },
  {
   "cell_type": "code",
   "execution_count": null,
   "id": "6c696921",
   "metadata": {},
   "outputs": [],
   "source": [
    "# 섭씨 온도가 10도 일 때\n",
    "Celsius = int(input())\n",
    "Fahrenheit = (Celsius * 9 / 5) + 32\n",
    "\n",
    "print(\"섭씨 온도 : \", Celsius)\n",
    "print(\"화씨 온도 : \", Fahrenheit)"
   ]
  }
 ],
 "metadata": {
  "kernelspec": {
   "display_name": "Python 3 (ipykernel)",
   "language": "python",
   "name": "python3"
  },
  "language_info": {
   "codemirror_mode": {
    "name": "ipython",
    "version": 3
   },
   "file_extension": ".py",
   "mimetype": "text/x-python",
   "name": "python",
   "nbconvert_exporter": "python",
   "pygments_lexer": "ipython3",
   "version": "3.9.16"
  },
  "toc": {
   "base_numbering": 1,
   "nav_menu": {},
   "number_sections": true,
   "sideBar": true,
   "skip_h1_title": false,
   "title_cell": "Table of Contents",
   "title_sidebar": "Contents",
   "toc_cell": false,
   "toc_position": {},
   "toc_section_display": true,
   "toc_window_display": false
  }
 },
 "nbformat": 4,
 "nbformat_minor": 5
}
