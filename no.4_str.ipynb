{
 "cells": [
  {
   "cell_type": "markdown",
   "id": "c5caaf9f",
   "metadata": {},
   "source": [
    "* 나도코딩의 파이썬 입문"
   ]
  },
  {
   "cell_type": "markdown",
   "id": "6631ec37",
   "metadata": {},
   "source": [
    "# 4장. 문자열 다루기"
   ]
  },
  {
   "cell_type": "markdown",
   "id": "f27d4eec",
   "metadata": {},
   "source": [
    "## 4장 실습 문제 : 비밀번호 만들기"
   ]
  },
  {
   "cell_type": "code",
   "execution_count": 1,
   "id": "695d96cc",
   "metadata": {},
   "outputs": [],
   "source": [
    "# 사이트별로 비밀번호를 생성하는 프로그램을 작성하세요.\n",
    "# http://naver.com\n",
    "# http://daum.com\n",
    "# http://google.com\n",
    "# http://youtube.com\n",
    "\n",
    "# 조건.\n",
    "# http:// 은 제외\n",
    "# 처음 만나는 '.' 이후 부분도 제외\n",
    "# 남은 글자 중 첫 3자리 + 글자 개수 + 글자 내 'e'의 개수 + '!'로 출력"
   ]
  },
  {
   "cell_type": "code",
   "execution_count": 2,
   "id": "08348050",
   "metadata": {},
   "outputs": [],
   "source": [
    "site = ['http://naver.com', 'http://daum.com', \n",
    "        'http://google.com', 'http://youtube.com']"
   ]
  },
  {
   "cell_type": "code",
   "execution_count": 3,
   "id": "550598c7",
   "metadata": {},
   "outputs": [
    {
     "name": "stdout",
     "output_type": "stream",
     "text": [
      "http://naver.com의 비밀번호는 nav51!입니다.\n"
     ]
    }
   ],
   "source": [
    "i = 0\n",
    "url = site[i]\n",
    "pw = site[i][7:].split('.')[0][:3]\n",
    "len_site = len(site[i][7:].split('.')[0])\n",
    "count_e = site[i][7:].split('.')[0].count('e')\n",
    "\n",
    "print(url + \"의 비밀번호는 \" + pw + str(len_site) + str(count_e) +\"!입니다.\")"
   ]
  },
  {
   "cell_type": "code",
   "execution_count": 4,
   "id": "a2d804f1",
   "metadata": {},
   "outputs": [
    {
     "name": "stdout",
     "output_type": "stream",
     "text": [
      "http://daum.com의 비밀번호는 dau40!입니다.\n"
     ]
    }
   ],
   "source": [
    "i = 1\n",
    "url = site[i]\n",
    "pw = site[i][7:].split('.')[0][:3]\n",
    "len_site = len(site[i][7:].split('.')[0])\n",
    "count_e = site[i][7:].split('.')[0].count('e')\n",
    "\n",
    "print(url + \"의 비밀번호는 \" + pw + str(len_site) + str(count_e) +\"!입니다.\")"
   ]
  },
  {
   "cell_type": "code",
   "execution_count": 5,
   "id": "c892cacd",
   "metadata": {},
   "outputs": [
    {
     "name": "stdout",
     "output_type": "stream",
     "text": [
      "http://google.com의 비밀번호는 goo61!입니다.\n"
     ]
    }
   ],
   "source": [
    "i = 2\n",
    "url = site[i]\n",
    "pw = site[i][7:].split('.')[0][:3]\n",
    "len_site = len(site[i][7:].split('.')[0])\n",
    "count_e = site[i][7:].split('.')[0].count('e')\n",
    "\n",
    "print(url + \"의 비밀번호는 \" + pw + str(len_site) + str(count_e) +\"!입니다.\")"
   ]
  },
  {
   "cell_type": "code",
   "execution_count": 6,
   "id": "1b374e18",
   "metadata": {},
   "outputs": [
    {
     "name": "stdout",
     "output_type": "stream",
     "text": [
      "http://youtube.com의 비밀번호는 you71!입니다.\n"
     ]
    }
   ],
   "source": [
    "i = 3\n",
    "url = site[i]\n",
    "pw = site[i][7:].split('.')[0][:3]\n",
    "len_site = len(site[i][7:].split('.')[0])\n",
    "count_e = site[i][7:].split('.')[0].count('e')\n",
    "\n",
    "print(url + \"의 비밀번호는 \" + pw + str(len_site) + str(count_e) +\"!입니다.\")"
   ]
  }
 ],
 "metadata": {
  "kernelspec": {
   "display_name": "Python 3 (ipykernel)",
   "language": "python",
   "name": "python3"
  },
  "language_info": {
   "codemirror_mode": {
    "name": "ipython",
    "version": 3
   },
   "file_extension": ".py",
   "mimetype": "text/x-python",
   "name": "python",
   "nbconvert_exporter": "python",
   "pygments_lexer": "ipython3",
   "version": "3.9.16"
  },
  "toc": {
   "base_numbering": 1,
   "nav_menu": {},
   "number_sections": true,
   "sideBar": true,
   "skip_h1_title": false,
   "title_cell": "Table of Contents",
   "title_sidebar": "Contents",
   "toc_cell": false,
   "toc_position": {},
   "toc_section_display": true,
   "toc_window_display": false
  }
 },
 "nbformat": 4,
 "nbformat_minor": 5
}
