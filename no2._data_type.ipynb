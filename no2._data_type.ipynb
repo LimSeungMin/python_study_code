{
 "cells": [
  {
   "cell_type": "markdown",
   "id": "3aa3e6fc",
   "metadata": {},
   "source": [
    "* 나도코딩의 파이썬 입문"
   ]
  },
  {
   "cell_type": "markdown",
   "id": "abf1d2f3",
   "metadata": {},
   "source": [
    "# 2장. 자료형과 변수"
   ]
  },
  {
   "cell_type": "markdown",
   "id": "e1da61d9",
   "metadata": {},
   "source": [
    "##  2장 실습 문제 : 역 이름 출력하기"
   ]
  },
  {
   "cell_type": "code",
   "execution_count": 1,
   "id": "3e7cc761",
   "metadata": {},
   "outputs": [],
   "source": [
    "# 변수를 사용해 다음 문장을 출력하세요.\n",
    "# 조건 : 변수명은 station으로 한다.\n",
    "# 값은 변수에 '사당, 신도림, 인천공항'순으로 저장한다."
   ]
  },
  {
   "cell_type": "code",
   "execution_count": null,
   "id": "d3857e77",
   "metadata": {},
   "outputs": [],
   "source": [
    "# 변수에 '사당'을 넣었을때\n",
    "\n",
    "station = input()\n",
    "print(station + \"행 열차가 들어오고 있습니다.\")"
   ]
  },
  {
   "cell_type": "code",
   "execution_count": null,
   "id": "64fb9a29",
   "metadata": {},
   "outputs": [],
   "source": [
    "# 변수에 '신도림'을 넣었을때\n",
    "\n",
    "station = input()\n",
    "print(station + \"행 열차가 들어오고 있습니다.\")"
   ]
  },
  {
   "cell_type": "code",
   "execution_count": null,
   "id": "1ee32925",
   "metadata": {},
   "outputs": [],
   "source": [
    "# 변수에 '인천공항'을 넣었을때\n",
    "\n",
    "station = input()\n",
    "print(station + \"행 열차가 들어오고 있습니다.\")"
   ]
  },
  {
   "cell_type": "markdown",
   "id": "3eb3f631",
   "metadata": {},
   "source": [
    "## 2장 셀프체크"
   ]
  },
  {
   "cell_type": "code",
   "execution_count": null,
   "id": "cd2ab816",
   "metadata": {},
   "outputs": [],
   "source": [
    "# 변수를 사용해 택배의 배송 상태를 안내하는 프로그램을 작성하세요.\n",
    "# 변수명은 status로 한다.\n",
    "# 값은 변수에 '상품 준비, 배송 중 , 배송 완료'순으로 저장한다."
   ]
  },
  {
   "cell_type": "code",
   "execution_count": null,
   "id": "f185c546",
   "metadata": {},
   "outputs": [],
   "source": [
    "# 변수에 '상품 준비'을 넣었을때\n",
    "\n",
    "status = input()\n",
    "print(\"주문상태 : \" + status)"
   ]
  },
  {
   "cell_type": "code",
   "execution_count": null,
   "id": "15d97be0",
   "metadata": {},
   "outputs": [],
   "source": [
    "# 변수에 '배송 중'을 넣었을때\n",
    "\n",
    "status = input()\n",
    "print(\"주문상태 : \" + status)"
   ]
  },
  {
   "cell_type": "code",
   "execution_count": null,
   "id": "6e9272fb",
   "metadata": {},
   "outputs": [],
   "source": [
    "# 변수에 '배송 완료'을 넣었을때\n",
    "\n",
    "status = input()\n",
    "print(\"주문상태 : \" + status)"
   ]
  }
 ],
 "metadata": {
  "kernelspec": {
   "display_name": "Python 3 (ipykernel)",
   "language": "python",
   "name": "python3"
  },
  "language_info": {
   "codemirror_mode": {
    "name": "ipython",
    "version": 3
   },
   "file_extension": ".py",
   "mimetype": "text/x-python",
   "name": "python",
   "nbconvert_exporter": "python",
   "pygments_lexer": "ipython3",
   "version": "3.9.16"
  },
  "toc": {
   "base_numbering": 1,
   "nav_menu": {},
   "number_sections": true,
   "sideBar": true,
   "skip_h1_title": false,
   "title_cell": "Table of Contents",
   "title_sidebar": "Contents",
   "toc_cell": false,
   "toc_position": {},
   "toc_section_display": true,
   "toc_window_display": false
  }
 },
 "nbformat": 4,
 "nbformat_minor": 5
}
